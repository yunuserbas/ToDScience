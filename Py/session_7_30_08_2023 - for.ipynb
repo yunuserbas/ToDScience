{
 "cells": [
  {
   "cell_type": "markdown",
   "metadata": {},
   "source": [
    "# for "
   ]
  },
  {
   "cell_type": "code",
   "execution_count": 2,
   "metadata": {},
   "outputs": [
    {
     "name": "stdout",
     "output_type": "stream",
     "text": [
      "s\n",
      "e\n",
      "d\n",
      "a\n",
      "t\n"
     ]
    }
   ],
   "source": [
    "for i in \"sedat\":\n",
    "    print(i)"
   ]
  },
  {
   "cell_type": "code",
   "execution_count": 3,
   "metadata": {},
   "outputs": [
    {
     "name": "stdout",
     "output_type": "stream",
     "text": [
      "1\n",
      "4\n",
      "9\n",
      "16\n",
      "25\n"
     ]
    }
   ],
   "source": [
    "liste_1 = [1,2,3,4,5]\n",
    "\n",
    "x = 0\n",
    "\n",
    "while x < len(liste_1):\n",
    "\n",
    "    print(liste_1[x] ** 2)\n",
    "\n",
    "    x += 1"
   ]
  },
  {
   "cell_type": "code",
   "execution_count": 4,
   "metadata": {},
   "outputs": [
    {
     "name": "stdout",
     "output_type": "stream",
     "text": [
      "1\n",
      "4\n",
      "9\n",
      "16\n",
      "25\n"
     ]
    }
   ],
   "source": [
    "liste_1 = [1,2,3,4,5]\n",
    "\n",
    "for i in liste_1:\n",
    "    print(i ** 2)"
   ]
  },
  {
   "cell_type": "code",
   "execution_count": 5,
   "metadata": {},
   "outputs": [
    {
     "name": "stdout",
     "output_type": "stream",
     "text": [
      "1\n",
      "4\n",
      "9\n",
      "16\n",
      "25\n"
     ]
    }
   ],
   "source": [
    "for i in [1,2,3,4,5]:\n",
    "    print(i ** 2)"
   ]
  },
  {
   "cell_type": "code",
   "execution_count": 6,
   "metadata": {},
   "outputs": [
    {
     "ename": "TypeError",
     "evalue": "'int' object is not iterable",
     "output_type": "error",
     "traceback": [
      "\u001b[1;31m---------------------------------------------------------------------------\u001b[0m",
      "\u001b[1;31mTypeError\u001b[0m                                 Traceback (most recent call last)",
      "Cell \u001b[1;32mIn[6], line 1\u001b[0m\n\u001b[1;32m----> 1\u001b[0m \u001b[39mfor\u001b[39;00m i \u001b[39min\u001b[39;00m \u001b[39m12\u001b[39m:\n\u001b[0;32m      2\u001b[0m     \u001b[39mprint\u001b[39m(i \u001b[39m*\u001b[39m\u001b[39m*\u001b[39m \u001b[39m2\u001b[39m)\n",
      "\u001b[1;31mTypeError\u001b[0m: 'int' object is not iterable"
     ]
    }
   ],
   "source": [
    "for i in 12:\n",
    "    print(i ** 2)"
   ]
  },
  {
   "cell_type": "code",
   "execution_count": 12,
   "metadata": {},
   "outputs": [
    {
     "name": "stdout",
     "output_type": "stream",
     "text": [
      "Emre\n",
      "Cihan\n",
      "Mikail\n",
      "Duygu\n"
     ]
    }
   ],
   "source": [
    "isimler = [\"emre\",\"Cihan\", \"mikail\", \"DUYGU\"]\n",
    "\n",
    "for i in isimler:\n",
    "\n",
    "    print(i.title())"
   ]
  },
  {
   "cell_type": "code",
   "execution_count": 15,
   "metadata": {},
   "outputs": [
    {
     "name": "stdout",
     "output_type": "stream",
     "text": [
      "['Emre', 'Cihan', 'Mikail', 'Duygu']\n"
     ]
    }
   ],
   "source": [
    "isimler = [\"emre\",\"Cihan\", \"mikail\", \"DUYGU\"]\n",
    "\n",
    "isimler_düzeltilmiş = []\n",
    "\n",
    "for i in isimler:\n",
    "\n",
    "    isimler_düzeltilmiş.append(i.title())\n",
    "\n",
    "print(isimler_düzeltilmiş)"
   ]
  },
  {
   "cell_type": "code",
   "execution_count": 16,
   "metadata": {},
   "outputs": [
    {
     "name": "stdout",
     "output_type": "stream",
     "text": [
      "name1 name2 name3\n",
      "Ertuğrul Mehmet Nazım\n",
      "25 32 36\n"
     ]
    }
   ],
   "source": [
    "liste_2 = [[\"name1\", \"name2\", \"name3\"],[\"Ertuğrul\", \"Mehmet\", \"Nazım\"],[25, 32, 36]]\n",
    "\n",
    "for i, j, k in liste_2:\n",
    "\n",
    "    print(i, j, k)"
   ]
  },
  {
   "cell_type": "code",
   "execution_count": 17,
   "metadata": {},
   "outputs": [
    {
     "ename": "ValueError",
     "evalue": "not enough values to unpack (expected 3, got 2)",
     "output_type": "error",
     "traceback": [
      "\u001b[1;31m---------------------------------------------------------------------------\u001b[0m",
      "\u001b[1;31mValueError\u001b[0m                                Traceback (most recent call last)",
      "Cell \u001b[1;32mIn[17], line 3\u001b[0m\n\u001b[0;32m      1\u001b[0m liste_2 \u001b[39m=\u001b[39m [[\u001b[39m\"\u001b[39m\u001b[39mname1\u001b[39m\u001b[39m\"\u001b[39m, \u001b[39m\"\u001b[39m\u001b[39mname2\u001b[39m\u001b[39m\"\u001b[39m],[\u001b[39m\"\u001b[39m\u001b[39mErtuğrul\u001b[39m\u001b[39m\"\u001b[39m, \u001b[39m\"\u001b[39m\u001b[39mMehmet\u001b[39m\u001b[39m\"\u001b[39m, \u001b[39m\"\u001b[39m\u001b[39mNazım\u001b[39m\u001b[39m\"\u001b[39m],[\u001b[39m25\u001b[39m, \u001b[39m32\u001b[39m, \u001b[39m36\u001b[39m]]\n\u001b[1;32m----> 3\u001b[0m \u001b[39mfor\u001b[39;00m i, j, k \u001b[39min\u001b[39;00m liste_2:\n\u001b[0;32m      5\u001b[0m     \u001b[39mprint\u001b[39m(i, j, k)\n",
      "\u001b[1;31mValueError\u001b[0m: not enough values to unpack (expected 3, got 2)"
     ]
    }
   ],
   "source": [
    "liste_2 = [[\"name1\", \"name2\"],[\"Ertuğrul\", \"Mehmet\", \"Nazım\"],[25, 32, 36]]\n",
    "\n",
    "for i, j, k in liste_2:\n",
    "\n",
    "    print(i, j, k)"
   ]
  },
  {
   "cell_type": "code",
   "execution_count": 18,
   "metadata": {},
   "outputs": [
    {
     "ename": "ValueError",
     "evalue": "too many values to unpack (expected 3)",
     "output_type": "error",
     "traceback": [
      "\u001b[1;31m---------------------------------------------------------------------------\u001b[0m",
      "\u001b[1;31mValueError\u001b[0m                                Traceback (most recent call last)",
      "Cell \u001b[1;32mIn[18], line 3\u001b[0m\n\u001b[0;32m      1\u001b[0m liste_2 \u001b[39m=\u001b[39m [\u001b[39m\"\u001b[39m\u001b[39mErtuğrul\u001b[39m\u001b[39m\"\u001b[39m, \u001b[39m\"\u001b[39m\u001b[39mMehmet\u001b[39m\u001b[39m\"\u001b[39m, \u001b[39m\"\u001b[39m\u001b[39mNazım\u001b[39m\u001b[39m\"\u001b[39m]\n\u001b[1;32m----> 3\u001b[0m \u001b[39mfor\u001b[39;00m i, j, k \u001b[39min\u001b[39;00m liste_2:\n\u001b[0;32m      5\u001b[0m     \u001b[39mprint\u001b[39m(i, j, k)\n",
      "\u001b[1;31mValueError\u001b[0m: too many values to unpack (expected 3)"
     ]
    }
   ],
   "source": [
    "liste_2 = [\"Ertuğrul\", \"Mehmet\", \"Nazım\"]\n",
    "\n",
    "for i, j, k in liste_2:\n",
    "\n",
    "    print(i, j, k)"
   ]
  },
  {
   "cell_type": "code",
   "execution_count": 19,
   "metadata": {},
   "outputs": [
    {
     "ename": "ValueError",
     "evalue": "too many values to unpack (expected 2)",
     "output_type": "error",
     "traceback": [
      "\u001b[1;31m---------------------------------------------------------------------------\u001b[0m",
      "\u001b[1;31mValueError\u001b[0m                                Traceback (most recent call last)",
      "Cell \u001b[1;32mIn[19], line 5\u001b[0m\n\u001b[0;32m      1\u001b[0m liste_3 \u001b[39m=\u001b[39m [\u001b[39m\"\u001b[39m\u001b[39mErtuğrul\u001b[39m\u001b[39m\"\u001b[39m, \u001b[39m\"\u001b[39m\u001b[39mMehmet\u001b[39m\u001b[39m\"\u001b[39m, \u001b[39m\"\u001b[39m\u001b[39mNazım\u001b[39m\u001b[39m\"\u001b[39m]\n\u001b[0;32m      2\u001b[0m liste_4 \u001b[39m=\u001b[39m [\u001b[39m25\u001b[39m, \u001b[39m32\u001b[39m, \u001b[39m36\u001b[39m]\n\u001b[1;32m----> 5\u001b[0m \u001b[39mfor\u001b[39;00m i, j \u001b[39min\u001b[39;00m liste_3,liste_4:\n\u001b[0;32m      7\u001b[0m     \u001b[39mprint\u001b[39m(i, j)\n",
      "\u001b[1;31mValueError\u001b[0m: too many values to unpack (expected 2)"
     ]
    }
   ],
   "source": [
    "liste_3 = [\"Ertuğrul\", \"Mehmet\", \"Nazım\"]\n",
    "liste_4 = [25, 32, 36]\n",
    "\n",
    "\n",
    "for i, j in liste_3,liste_4:\n",
    "\n",
    "    print(i, j)"
   ]
  },
  {
   "cell_type": "code",
   "execution_count": 20,
   "metadata": {},
   "outputs": [
    {
     "name": "stdout",
     "output_type": "stream",
     "text": [
      "Ertuğrul 25\n",
      "Mehmet 32\n",
      "Nazım 36\n"
     ]
    }
   ],
   "source": [
    "liste_3 = [\"Ertuğrul\", \"Mehmet\", \"Nazım\"]\n",
    "liste_4 = [25, 32, 36]\n",
    "\n",
    "for i, j in zip(liste_3,liste_4):\n",
    "\n",
    "    print(i, j)"
   ]
  },
  {
   "cell_type": "code",
   "execution_count": 21,
   "metadata": {},
   "outputs": [
    {
     "ename": "TypeError",
     "evalue": "'bool' object is not iterable",
     "output_type": "error",
     "traceback": [
      "\u001b[1;31m---------------------------------------------------------------------------\u001b[0m",
      "\u001b[1;31mTypeError\u001b[0m                                 Traceback (most recent call last)",
      "Cell \u001b[1;32mIn[21], line 1\u001b[0m\n\u001b[1;32m----> 1\u001b[0m \u001b[39mfor\u001b[39;00m i \u001b[39min\u001b[39;00m \u001b[39mTrue\u001b[39;00m:\n\u001b[0;32m      3\u001b[0m     \u001b[39mprint\u001b[39m(i)\n",
      "\u001b[1;31mTypeError\u001b[0m: 'bool' object is not iterable"
     ]
    }
   ],
   "source": [
    "for i in True:\n",
    "\n",
    "    print(i)"
   ]
  },
  {
   "cell_type": "code",
   "execution_count": 22,
   "metadata": {},
   "outputs": [
    {
     "name": "stdout",
     "output_type": "stream",
     "text": [
      "True\n"
     ]
    }
   ],
   "source": [
    "for i in [True]:\n",
    "\n",
    "    print(i)"
   ]
  },
  {
   "cell_type": "code",
   "execution_count": 23,
   "metadata": {},
   "outputs": [],
   "source": [
    "for i in []:\n",
    "\n",
    "    print(i)"
   ]
  },
  {
   "cell_type": "code",
   "execution_count": 26,
   "metadata": {},
   "outputs": [
    {
     "data": {
      "text/plain": [
       "['Ertuğrul', 'Mehmet', 'Nazım']"
      ]
     },
     "execution_count": 26,
     "metadata": {},
     "output_type": "execute_result"
    }
   ],
   "source": [
    "liste_3"
   ]
  },
  {
   "cell_type": "code",
   "execution_count": null,
   "metadata": {},
   "outputs": [],
   "source": [
    "# çalıştırma sonsuz döngü\n",
    "\n",
    "for i in liste_3:\n",
    "\n",
    "    print(i)\n",
    "    liste_3.append(i)"
   ]
  },
  {
   "cell_type": "markdown",
   "metadata": {},
   "source": [
    "## range()"
   ]
  },
  {
   "cell_type": "code",
   "execution_count": 29,
   "metadata": {},
   "outputs": [
    {
     "data": {
      "text/plain": [
       "range(0, 10)"
      ]
     },
     "execution_count": 29,
     "metadata": {},
     "output_type": "execute_result"
    }
   ],
   "source": [
    "range(0,10)"
   ]
  },
  {
   "cell_type": "code",
   "execution_count": 30,
   "metadata": {},
   "outputs": [
    {
     "data": {
      "text/plain": [
       "[0, 1, 2, 3, 4, 5, 6, 7, 8, 9]"
      ]
     },
     "execution_count": 30,
     "metadata": {},
     "output_type": "execute_result"
    }
   ],
   "source": [
    "list(range(0,10))"
   ]
  },
  {
   "cell_type": "code",
   "execution_count": 32,
   "metadata": {},
   "outputs": [
    {
     "name": "stdout",
     "output_type": "stream",
     "text": [
      "[10, 11, 12, 13, 14, 15, 16, 17, 18, 19, 20, 21, 22, 23, 24, 25, 26, 27, 28, 29, 30, 31, 32, 33, 34, 35, 36, 37, 38, 39, 40, 41, 42, 43, 44, 45, 46, 47, 48, 49]\n"
     ]
    }
   ],
   "source": [
    "print(list(range(10,50)))"
   ]
  },
  {
   "cell_type": "code",
   "execution_count": 33,
   "metadata": {},
   "outputs": [
    {
     "name": "stdout",
     "output_type": "stream",
     "text": [
      "[10, 12, 14, 16, 18, 20, 22, 24, 26, 28, 30, 32, 34, 36, 38, 40, 42, 44, 46, 48]\n"
     ]
    }
   ],
   "source": [
    "print(list(range(10,50,2)))"
   ]
  },
  {
   "cell_type": "code",
   "execution_count": 35,
   "metadata": {},
   "outputs": [
    {
     "name": "stdout",
     "output_type": "stream",
     "text": [
      "[10, 15, 20, 25, 30, 35, 40, 45, 50]\n"
     ]
    }
   ],
   "source": [
    "print(list(range(10,51,5)))"
   ]
  },
  {
   "cell_type": "code",
   "execution_count": 39,
   "metadata": {},
   "outputs": [
    {
     "name": "stdout",
     "output_type": "stream",
     "text": [
      "1 4 9 16 25 36 49 64 81 "
     ]
    }
   ],
   "source": [
    "for i in range(1,10):\n",
    "\n",
    "    print(i ** 2, end = \" \") # end operatörünün default değeri \\n dir. yani bir alt satıra geçirir. "
   ]
  },
  {
   "cell_type": "code",
   "execution_count": null,
   "metadata": {},
   "outputs": [],
   "source": [
    "for i in range(1,101):\n",
    "    print(i,\"Hoca bana ceza verdi\")"
   ]
  },
  {
   "cell_type": "markdown",
   "metadata": {},
   "source": [
    "kullanıcıdan 0 ile 9 arasında bir sayı girmesini isteyin. Girdiği sayının çarpım tablosunu oluşturan algoritmayı yazın. "
   ]
  },
  {
   "cell_type": "code",
   "execution_count": 46,
   "metadata": {},
   "outputs": [
    {
     "name": "stdout",
     "output_type": "stream",
     "text": [
      "15 x 0 =  0\n",
      "15 x 1 =  15\n",
      "15 x 2 =  30\n",
      "15 x 3 =  45\n",
      "15 x 4 =  60\n",
      "15 x 5 =  75\n",
      "15 x 6 =  90\n",
      "15 x 7 =  105\n",
      "15 x 8 =  120\n",
      "15 x 9 =  135\n",
      "15 x 10 =  150\n"
     ]
    }
   ],
   "source": [
    "sayı = int(input(\"Lütfen bir sayı girin. 1 ile 9 arasında\"))\n",
    "\n",
    "for i in range(0,11):\n",
    "\n",
    "    print(sayı, \"x\", i, \"= \", sayı * i)"
   ]
  },
  {
   "cell_type": "code",
   "execution_count": 51,
   "metadata": {},
   "outputs": [
    {
     "name": "stdout",
     "output_type": "stream",
     "text": [
      "6 x 0 =  0\n",
      "6 x 1 =  6\n",
      "6 x 2 =  12\n",
      "6 x 3 =  18\n",
      "6 x 4 =  24\n",
      "6 x 5 =  30\n",
      "6 x 6 =  36\n",
      "6 x 7 =  42\n",
      "6 x 8 =  48\n",
      "6 x 9 =  54\n",
      "6 x 10 =  60\n"
     ]
    }
   ],
   "source": [
    "y = True\n",
    "\n",
    "while y:\n",
    "\n",
    "    sayı = int(input(\"Lütfen bir sayı girin. 1 ile 9 arasında\"))\n",
    "\n",
    "    if 1 <= sayı <= 9:\n",
    "        \n",
    "        for i in range(0,11):\n",
    "\n",
    "            print(sayı, \"x\", i, \"= \", sayı * i)\n",
    "\n",
    "            y = False\n",
    "\n",
    "    else:\n",
    "\n",
    "        print(\"girdiğiniz sayı 1 ile 9 arasında değil. Lütfen tekrar girin.\")"
   ]
  },
  {
   "cell_type": "code",
   "execution_count": 1,
   "metadata": {},
   "outputs": [
    {
     "name": "stdout",
     "output_type": "stream",
     "text": [
      "5 x 0 =  0\n",
      "5 x 0 =  0\n"
     ]
    }
   ],
   "source": [
    "while True:\n",
    "\n",
    "    sayı = int(input(\"Lütfen bir sayı girin. 1 ile 9 arasında\"))\n",
    "\n",
    "    if 1 <= sayı <= 9:\n",
    "        \n",
    "        for i in range(0,11):\n",
    "\n",
    "            print(sayı, \"x\", i, \"= \", sayı * i)\n",
    "\n",
    "        break\n",
    "\n",
    "    else:\n",
    "\n",
    "        print(\"girdiğiniz sayı 1 ile 9 arasında değil. Lütfen tekrar girin.\")"
   ]
  },
  {
   "cell_type": "markdown",
   "metadata": {},
   "source": [
    "## taş kağıt makas oyun algoritması"
   ]
  },
  {
   "cell_type": "code",
   "execution_count": null,
   "metadata": {},
   "outputs": [],
   "source": []
  },
  {
   "cell_type": "code",
   "execution_count": 2,
   "metadata": {},
   "outputs": [
    {
     "name": "stdout",
     "output_type": "stream",
     "text": [
      "pc nin seçimi: taş kazanan: berabere\n",
      "pc nin seçimi: kağıt kazanan: sen\n",
      "Game over\n"
     ]
    }
   ],
   "source": [
    "a = input(\"Oyun oynamak ister misin. yes or no\").lower()\n",
    "\n",
    "pc_list = [\"taş\", \"kağıt\", \"makas\"]\n",
    "\n",
    "import random\n",
    "\n",
    "while a == \"yes\":\n",
    "\n",
    "    pc = pc_list[random.randint(0,2)]\n",
    "\n",
    "    ben = input(\"taş kağıt yada makastan birini seç\").lower()\n",
    "\n",
    "    if (pc == \"taş\" and ben == \"kağıt\") or (pc == \"kağıt\" and ben == \"makas\" ) or (pc == \"makas\" and ben == \"taş\"):\n",
    "\n",
    "        kazanan = \"sen\"\n",
    "\n",
    "    elif (pc == \"taş\" and ben == \"makas\") or (pc == \"kağıt\" and ben == \"taş\") or (pc == \"makas\" and ben == \"kağıt\"):\n",
    "\n",
    "        kazanan = \"pc\"\n",
    "\n",
    "    elif (pc == \"taş\" and ben == \"taş\") or (pc == \"kağıt\" and ben == \"kağıt\") or (pc == \"makas\" and ben == \"makas\"):\n",
    "\n",
    "        kazanan = \"berabere\"\n",
    "\n",
    "    print(\"pc nin seçimi:\",pc,\"kazanan:\", kazanan)\n",
    "\n",
    "    a = input(\"yeniden oynamak ister misin. yes or no\").lower()\n",
    "\n",
    "print(\"Game over\")"
   ]
  }
 ],
 "metadata": {
  "kernelspec": {
   "display_name": "base",
   "language": "python",
   "name": "python3"
  },
  "language_info": {
   "codemirror_mode": {
    "name": "ipython",
    "version": 3
   },
   "file_extension": ".py",
   "mimetype": "text/x-python",
   "name": "python",
   "nbconvert_exporter": "python",
   "pygments_lexer": "ipython3",
   "version": "3.10.9"
  },
  "orig_nbformat": 4
 },
 "nbformat": 4,
 "nbformat_minor": 2
}
