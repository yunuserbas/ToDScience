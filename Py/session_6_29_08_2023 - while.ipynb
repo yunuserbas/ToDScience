{
 "cells": [
  {
   "cell_type": "markdown",
   "metadata": {},
   "source": [
    "# LOOPS"
   ]
  },
  {
   "cell_type": "markdown",
   "metadata": {},
   "source": [
    "## while"
   ]
  },
  {
   "cell_type": "code",
   "execution_count": null,
   "metadata": {},
   "outputs": [],
   "source": [
    "# sonsuz döngü. çalıştırma\n",
    "x = 5\n",
    "while 10 > x:\n",
    "    print(\"Bu döngü sonsuz kere çalışır. sakın çalıştırmayın\")"
   ]
  },
  {
   "cell_type": "code",
   "execution_count": 1,
   "metadata": {},
   "outputs": [
    {
     "name": "stdout",
     "output_type": "stream",
     "text": [
      "Bu döngü sonsuz kere çalışır. sakın çalıştırmayın\n",
      "Bu döngü sonsuz kere çalışır. sakın çalıştırmayın\n",
      "Bu döngü sonsuz kere çalışır. sakın çalıştırmayın\n",
      "Bu döngü sonsuz kere çalışır. sakın çalıştırmayın\n",
      "Bu döngü sonsuz kere çalışır. sakın çalıştırmayın\n"
     ]
    }
   ],
   "source": [
    "x = 5\n",
    "while 10 > x:\n",
    "    print(\"Bu döngü sonsuz kere çalışır. sakın çalıştırmayın\")\n",
    "    x = x + 1"
   ]
  },
  {
   "cell_type": "code",
   "execution_count": null,
   "metadata": {},
   "outputs": [],
   "source": [
    "# çalıştırma. sonsuz döngü. \n",
    "x = 5\n",
    "while 10 > x:\n",
    "    print(\"Bu döngü sonsuz kere çalışır. sakın çalıştırmayın\")\n",
    "x = x + 1 # döngü dışında olduğu için döngü sonsuza gidecektir."
   ]
  },
  {
   "cell_type": "code",
   "execution_count": 2,
   "metadata": {},
   "outputs": [
    {
     "name": "stdout",
     "output_type": "stream",
     "text": [
      "1\n",
      "2\n",
      "3\n",
      "4\n",
      "5\n",
      "6\n",
      "7\n",
      "8\n",
      "9\n"
     ]
    }
   ],
   "source": [
    "x = 1\n",
    "while x < 10:\n",
    "    print(x)\n",
    "    x = x + 1"
   ]
  },
  {
   "cell_type": "code",
   "execution_count": 5,
   "metadata": {},
   "outputs": [],
   "source": [
    "while 0:\n",
    "    print(\"sanki çalışmayacak gibi\")"
   ]
  },
  {
   "cell_type": "code",
   "execution_count": null,
   "metadata": {},
   "outputs": [],
   "source": [
    "# çalıştırma\n",
    "while True:\n",
    "    print(\"sonsuza gidecek gibi\")"
   ]
  },
  {
   "cell_type": "code",
   "execution_count": 7,
   "metadata": {},
   "outputs": [
    {
     "name": "stdout",
     "output_type": "stream",
     "text": [
      "while döngüsü koşul False olana kadar çalışmaya devam eder.\n"
     ]
    }
   ],
   "source": [
    "y = True\n",
    "while y:\n",
    "    print(\"while döngüsü koşul False olana kadar çalışmaya devam eder.\")\n",
    "    y = False"
   ]
  },
  {
   "cell_type": "code",
   "execution_count": 8,
   "metadata": {},
   "outputs": [
    {
     "name": "stdout",
     "output_type": "stream",
     "text": [
      "0\n",
      "2\n",
      "4\n",
      "6\n",
      "8\n",
      "10\n"
     ]
    }
   ],
   "source": [
    "x = 0\n",
    "while x <= 10:\n",
    "    print(x)\n",
    "    x = x + 2"
   ]
  },
  {
   "cell_type": "code",
   "execution_count": 9,
   "metadata": {},
   "outputs": [
    {
     "name": "stdout",
     "output_type": "stream",
     "text": [
      "2\n",
      "4\n",
      "6\n",
      "8\n",
      "10\n",
      "12\n"
     ]
    }
   ],
   "source": [
    "x = 0\n",
    "while x <= 10:\n",
    "    x = x + 2\n",
    "    print(x)"
   ]
  },
  {
   "cell_type": "code",
   "execution_count": 11,
   "metadata": {},
   "outputs": [
    {
     "name": "stdout",
     "output_type": "stream",
     "text": [
      "0\n",
      "1\n",
      "4\n",
      "9\n",
      "16\n",
      "Döngü burada bitti\n"
     ]
    }
   ],
   "source": [
    "x = 0\n",
    "\n",
    "while x < 5:\n",
    "    print(x ** 2)\n",
    "    x = x + 1\n",
    "\n",
    "\n",
    "\n",
    "print(\"Döngü burada bitti\")"
   ]
  },
  {
   "cell_type": "code",
   "execution_count": 12,
   "metadata": {},
   "outputs": [
    {
     "name": "stdout",
     "output_type": "stream",
     "text": [
      "0\n",
      "Döngü burada bitti\n",
      "1\n",
      "Döngü burada bitti\n",
      "4\n",
      "Döngü burada bitti\n",
      "9\n",
      "Döngü burada bitti\n",
      "16\n",
      "Döngü burada bitti\n"
     ]
    }
   ],
   "source": [
    "x = 0\n",
    "\n",
    "while x < 5:\n",
    "    print(x ** 2)\n",
    "    x = x + 1\n",
    "\n",
    "    print(\"Döngü burada bitti\")"
   ]
  },
  {
   "cell_type": "code",
   "execution_count": null,
   "metadata": {},
   "outputs": [],
   "source": [
    "x = 2\n",
    "\n",
    "while x < 50:\n",
    "    print(x)\n",
    "    x += 2        # x = x + 2"
   ]
  },
  {
   "cell_type": "code",
   "execution_count": null,
   "metadata": {},
   "outputs": [],
   "source": [
    "x = 0\n",
    "\n",
    "while x <= 48:\n",
    "    x += 2\n",
    "    print(x)\n",
    "    "
   ]
  },
  {
   "cell_type": "code",
   "execution_count": 17,
   "metadata": {},
   "outputs": [
    {
     "name": "stdout",
     "output_type": "stream",
     "text": [
      "2*4*6*8*10*12*14*16*18*20*22*24*26*28*30*32*34*36*38*40*42*44*46*48*"
     ]
    }
   ],
   "source": [
    "x = 2\n",
    "\n",
    "while x < 50:\n",
    "    print(x, end=\"*\")\n",
    "    x += 2 "
   ]
  },
  {
   "cell_type": "code",
   "execution_count": 20,
   "metadata": {},
   "outputs": [],
   "source": [
    "sayılar_listesi = [1,3,5,7,9]"
   ]
  },
  {
   "cell_type": "code",
   "execution_count": 22,
   "metadata": {},
   "outputs": [
    {
     "data": {
      "text/plain": [
       "9"
      ]
     },
     "execution_count": 22,
     "metadata": {},
     "output_type": "execute_result"
    }
   ],
   "source": [
    "sayılar_listesi[4]"
   ]
  },
  {
   "cell_type": "code",
   "execution_count": 30,
   "metadata": {},
   "outputs": [
    {
     "name": "stdout",
     "output_type": "stream",
     "text": [
      "1\n",
      "9\n",
      "25\n",
      "49\n",
      "81\n"
     ]
    }
   ],
   "source": [
    "sayılar_listesi = [1,3,5,7,9]\n",
    "\n",
    "x = 0\n",
    "\n",
    "while x < len(sayılar_listesi):\n",
    "\n",
    "    print(sayılar_listesi[x] ** 2)\n",
    "\n",
    "    x += 1"
   ]
  },
  {
   "cell_type": "code",
   "execution_count": 25,
   "metadata": {},
   "outputs": [
    {
     "name": "stdout",
     "output_type": "stream",
     "text": [
      "1\n",
      "9\n",
      "25\n",
      "49\n",
      "81\n",
      "121\n",
      "169\n",
      "225\n",
      "289\n",
      "361\n",
      "441\n",
      "529\n",
      "625\n"
     ]
    }
   ],
   "source": [
    "sayılar_listesi = [1,3,5,7,9,11,13,15,17,19,21,23,25]\n",
    "\n",
    "x = 0\n",
    "\n",
    "while x < len(sayılar_listesi):\n",
    "\n",
    "    print(sayılar_listesi[x] ** 2)\n",
    "\n",
    "    x += 1"
   ]
  },
  {
   "cell_type": "code",
   "execution_count": 29,
   "metadata": {},
   "outputs": [
    {
     "name": "stdout",
     "output_type": "stream",
     "text": [
      "1\n",
      "9\n",
      "25\n",
      "49\n",
      "81\n"
     ]
    },
    {
     "ename": "IndexError",
     "evalue": "list index out of range",
     "output_type": "error",
     "traceback": [
      "\u001b[1;31m---------------------------------------------------------------------------\u001b[0m",
      "\u001b[1;31mIndexError\u001b[0m                                Traceback (most recent call last)",
      "Cell \u001b[1;32mIn[29], line 7\u001b[0m\n\u001b[0;32m      3\u001b[0m x \u001b[39m=\u001b[39m \u001b[39m0\u001b[39m\n\u001b[0;32m      5\u001b[0m \u001b[39mwhile\u001b[39;00m x \u001b[39m<\u001b[39m\u001b[39m=\u001b[39m \u001b[39mlen\u001b[39m(sayılar_listesi):\n\u001b[1;32m----> 7\u001b[0m     \u001b[39mprint\u001b[39m(sayılar_listesi[x] \u001b[39m*\u001b[39m\u001b[39m*\u001b[39m \u001b[39m2\u001b[39m)\n\u001b[0;32m      9\u001b[0m     x \u001b[39m+\u001b[39m\u001b[39m=\u001b[39m \u001b[39m1\u001b[39m\n",
      "\u001b[1;31mIndexError\u001b[0m: list index out of range"
     ]
    }
   ],
   "source": [
    "sayılar_listesi = [1,3,5,7,9]\n",
    "\n",
    "x = 0\n",
    "\n",
    "while x <= len(sayılar_listesi):\n",
    "\n",
    "    print(sayılar_listesi[x] ** 2)\n",
    "\n",
    "    x += 1"
   ]
  },
  {
   "cell_type": "code",
   "execution_count": 2,
   "metadata": {},
   "outputs": [
    {
     "name": "stdout",
     "output_type": "stream",
     "text": [
      "Girdiğiniz sayı: 50 tahmininizi arttırın\n",
      "Girdiğiniz sayı: 50 tahmininizi arttırın\n",
      "Girdiğiniz sayı: 80 tahmininizi azaltın\n",
      "Girdiğiniz sayı: 60 Tebrikler bildiniz.\n"
     ]
    }
   ],
   "source": [
    "sayı = 60\n",
    "\n",
    "x = True\n",
    "\n",
    "while x:\n",
    "\n",
    "    tahmin = int(input(\"Bir sayı girin\"))      \n",
    "\n",
    "    if sayı > tahmin:\n",
    "\n",
    "        print(\"Girdiğiniz sayı:\", tahmin, \"tahmininizi arttırın\")\n",
    "\n",
    "    elif sayı < tahmin:\n",
    "\n",
    "        print(\"Girdiğiniz sayı:\", tahmin, \"tahmininizi azaltın\")\n",
    "    \n",
    "    else:\n",
    "\n",
    "        print(\"Girdiğiniz sayı:\", tahmin, \"Tebrikler bildiniz.\")\n",
    "\n",
    "        x = False\n"
   ]
  },
  {
   "cell_type": "code",
   "execution_count": 3,
   "metadata": {},
   "outputs": [
    {
     "name": "stdout",
     "output_type": "stream",
     "text": [
      "Girdiğiniz sayı: 55 tahmininizi arttırın\n",
      "Girdiğiniz sayı: 60 Tebrikler bildiniz.\n"
     ]
    }
   ],
   "source": [
    "sayı = 60\n",
    "\n",
    "while True:\n",
    "\n",
    "    tahmin = int(input(\"Bir sayı girin\"))      \n",
    "\n",
    "    if sayı > tahmin:\n",
    "\n",
    "        print(\"Girdiğiniz sayı:\", tahmin, \"tahmininizi arttırın\")\n",
    "\n",
    "    elif sayı < tahmin:\n",
    "\n",
    "        print(\"Girdiğiniz sayı:\", tahmin, \"tahmininizi azaltın\")\n",
    "    \n",
    "    else:\n",
    "\n",
    "        print(\"Girdiğiniz sayı:\", tahmin, \"Tebrikler bildiniz.\")\n",
    "        break\n",
    "        "
   ]
  },
  {
   "cell_type": "markdown",
   "metadata": {},
   "source": [
    "### randam modülü"
   ]
  },
  {
   "cell_type": "code",
   "execution_count": 2,
   "metadata": {},
   "outputs": [],
   "source": [
    "import random"
   ]
  },
  {
   "cell_type": "code",
   "execution_count": 3,
   "metadata": {},
   "outputs": [
    {
     "data": {
      "text/plain": [
       "0.8470160032825128"
      ]
     },
     "execution_count": 3,
     "metadata": {},
     "output_type": "execute_result"
    }
   ],
   "source": [
    "random.random()"
   ]
  },
  {
   "cell_type": "code",
   "execution_count": 8,
   "metadata": {},
   "outputs": [
    {
     "data": {
      "text/plain": [
       "65172"
      ]
     },
     "execution_count": 8,
     "metadata": {},
     "output_type": "execute_result"
    }
   ],
   "source": [
    "random.randint(0,100000)"
   ]
  },
  {
   "cell_type": "code",
   "execution_count": 12,
   "metadata": {},
   "outputs": [
    {
     "name": "stdout",
     "output_type": "stream",
     "text": [
      "Girdiğiniz sayı: 50 tahmininizi arttırın\n",
      "Girdiğiniz sayı: 50 tahmininizi arttırın\n",
      "Girdiğiniz sayı: 75 tahmininizi azaltın\n",
      "Girdiğiniz sayı: 75 tahmininizi azaltın\n",
      "Girdiğiniz sayı: 62 tahmininizi arttırın\n",
      "Girdiğiniz sayı: 62 tahmininizi arttırın\n",
      "Girdiğiniz sayı: 69 tahmininizi azaltın\n",
      "Girdiğiniz sayı: 65 Tebrikler 8 kerede bildiniz.\n"
     ]
    }
   ],
   "source": [
    "sayı = random.randint(0,100)\n",
    "\n",
    "sayaç = 0\n",
    "\n",
    "while True:\n",
    "\n",
    "    tahmin = int(input(\"Bir sayı girin\"))      \n",
    "\n",
    "    sayaç += 1\n",
    "\n",
    "    if sayı > tahmin:\n",
    "\n",
    "        print(\"Girdiğiniz sayı:\", tahmin, \"tahmininizi arttırın\")\n",
    "\n",
    "    elif sayı < tahmin:\n",
    "\n",
    "        print(\"Girdiğiniz sayı:\", tahmin, \"tahmininizi azaltın\")\n",
    "    \n",
    "    else:\n",
    "\n",
    "        print(\"Girdiğiniz sayı:\", tahmin, \"Tebrikler\",sayaç,\"kerede bildiniz.\")\n",
    "        break"
   ]
  },
  {
   "cell_type": "markdown",
   "metadata": {},
   "source": [
    "liste_1 = [1,45,22,69,58,55,47,45,46,48,49,50,40]\n",
    "\n",
    "listenin elemanlarını tek_sayılar ve çift_sayılar olarak ayırın. "
   ]
  },
  {
   "cell_type": "code",
   "execution_count": 4,
   "metadata": {},
   "outputs": [
    {
     "name": "stdout",
     "output_type": "stream",
     "text": [
      "[22, 58, 46, 48, 50, 40]\n",
      "[1, 45, 69, 55, 47, 45, 49]\n"
     ]
    }
   ],
   "source": [
    "liste_1 = [1,45,22,69,58,55,47,45,46,48,49,50,40]\n",
    "\n",
    "tek_sayılar = []\n",
    "\n",
    "çift_sayılar = []\n",
    "\n",
    "x = 0\n",
    "\n",
    "while x < len(liste_1):\n",
    "\n",
    "    if liste_1[x] % 2 == 0:\n",
    "\n",
    "        çift_sayılar.append(liste_1[x])\n",
    "\n",
    "    else:\n",
    "\n",
    "        tek_sayılar.append(liste_1[x])\n",
    "\n",
    "    x += 1\n",
    "\n",
    "print(çift_sayılar)\n",
    "print(tek_sayılar)\n"
   ]
  },
  {
   "cell_type": "code",
   "execution_count": 5,
   "metadata": {},
   "outputs": [
    {
     "name": "stdout",
     "output_type": "stream",
     "text": [
      "[1]\n",
      "[1, 45]\n",
      "[22]\n",
      "[1, 45, 69]\n",
      "[22, 58]\n",
      "[1, 45, 69, 55]\n",
      "[1, 45, 69, 55, 47]\n",
      "[1, 45, 69, 55, 47, 45]\n",
      "[22, 58, 46]\n",
      "[22, 58, 46, 48]\n",
      "[1, 45, 69, 55, 47, 45, 49]\n",
      "[22, 58, 46, 48, 50]\n",
      "[22, 58, 46, 48, 50, 40]\n"
     ]
    }
   ],
   "source": [
    "liste_1 = [1,45,22,69,58,55,47,45,46,48,49,50,40]\n",
    "\n",
    "tek_sayılar = []\n",
    "\n",
    "çift_sayılar = []\n",
    "\n",
    "x = 0\n",
    "\n",
    "while x < len(liste_1):\n",
    "\n",
    "    if liste_1[x] % 2 == 0:\n",
    "\n",
    "        çift_sayılar.append(liste_1[x])\n",
    "        print(çift_sayılar)\n",
    "\n",
    "    else:\n",
    "\n",
    "        tek_sayılar.append(liste_1[x])\n",
    "        print(tek_sayılar)\n",
    "        \n",
    "    x += 1\n",
    "\n",
    "\n"
   ]
  },
  {
   "cell_type": "code",
   "execution_count": 6,
   "metadata": {},
   "outputs": [
    {
     "name": "stdout",
     "output_type": "stream",
     "text": [
      "None\n",
      "[1, 45, 69, 55, 47, 45, 49]\n"
     ]
    }
   ],
   "source": [
    "liste_1 = [1,45,22,69,58,55,47,45,46,48,49,50,40]\n",
    "\n",
    "tek_sayılar = []\n",
    "\n",
    "çift_sayılar = []\n",
    "\n",
    "x = 0\n",
    "\n",
    "while x < len(liste_1):\n",
    "\n",
    "    if liste_1[x] % 2 == 0:\n",
    "\n",
    "        çift_sayılar.append(liste_1[x])\n",
    "\n",
    "    else:\n",
    "\n",
    "        tek_sayılar.append(liste_1[x])\n",
    "\n",
    "    x += 1\n",
    "\n",
    "print(çift_sayılar.sort())\n",
    "print(tek_sayılar)"
   ]
  },
  {
   "cell_type": "code",
   "execution_count": 8,
   "metadata": {},
   "outputs": [],
   "source": [
    "çift_sayılar.sort()"
   ]
  },
  {
   "cell_type": "code",
   "execution_count": 2,
   "metadata": {},
   "outputs": [
    {
     "name": "stdout",
     "output_type": "stream",
     "text": [
      "[22, 40, 46, 48, 50, 58]\n",
      "[1, 45, 69, 55, 47, 45, 49]\n"
     ]
    }
   ],
   "source": [
    "liste_1 = [1,45,22,69,58,55,47,45,46,48,49,50,40]\n",
    "\n",
    "tek_sayılar = []\n",
    "\n",
    "çift_sayılar = []\n",
    "\n",
    "x = 0\n",
    "\n",
    "while x < len(liste_1):\n",
    "\n",
    "    if liste_1[x] % 2 == 0:\n",
    "\n",
    "        çift_sayılar.append(liste_1[x])\n",
    "\n",
    "    else:\n",
    "\n",
    "        tek_sayılar.append(liste_1[x])\n",
    "\n",
    "    x += 1\n",
    "\n",
    "\n",
    "çift_sayılar.sort()\n",
    "\n",
    "print(çift_sayılar)\n",
    "print(tek_sayılar)"
   ]
  },
  {
   "cell_type": "markdown",
   "metadata": {},
   "source": [
    "## min(), max()"
   ]
  },
  {
   "cell_type": "code",
   "execution_count": 3,
   "metadata": {},
   "outputs": [
    {
     "data": {
      "text/plain": [
       "[1, 45, 22, 69, 58, 55, 47, 45, 46, 48, 49, 50, 40]"
      ]
     },
     "execution_count": 3,
     "metadata": {},
     "output_type": "execute_result"
    }
   ],
   "source": [
    "liste_1"
   ]
  },
  {
   "cell_type": "code",
   "execution_count": 4,
   "metadata": {},
   "outputs": [
    {
     "data": {
      "text/plain": [
       "1"
      ]
     },
     "execution_count": 4,
     "metadata": {},
     "output_type": "execute_result"
    }
   ],
   "source": [
    "min(liste_1)"
   ]
  },
  {
   "cell_type": "code",
   "execution_count": 5,
   "metadata": {},
   "outputs": [
    {
     "data": {
      "text/plain": [
       "69"
      ]
     },
     "execution_count": 5,
     "metadata": {},
     "output_type": "execute_result"
    }
   ],
   "source": [
    "max(liste_1)"
   ]
  },
  {
   "cell_type": "code",
   "execution_count": 6,
   "metadata": {},
   "outputs": [
    {
     "data": {
      "text/plain": [
       "2"
      ]
     },
     "execution_count": 6,
     "metadata": {},
     "output_type": "execute_result"
    }
   ],
   "source": [
    "min(5,4,2,8,9)"
   ]
  },
  {
   "cell_type": "code",
   "execution_count": 7,
   "metadata": {},
   "outputs": [
    {
     "data": {
      "text/plain": [
       "9"
      ]
     },
     "execution_count": 7,
     "metadata": {},
     "output_type": "execute_result"
    }
   ],
   "source": [
    "max(5,4,2,8,9)"
   ]
  },
  {
   "cell_type": "code",
   "execution_count": 8,
   "metadata": {},
   "outputs": [
    {
     "data": {
      "text/plain": [
       "'aslan'"
      ]
     },
     "execution_count": 8,
     "metadata": {},
     "output_type": "execute_result"
    }
   ],
   "source": [
    "min(\"techpro\", \"sedat\", \"aslan\")"
   ]
  },
  {
   "cell_type": "code",
   "execution_count": 10,
   "metadata": {},
   "outputs": [],
   "source": [
    "liste_2 = [2,5,6,8,9]"
   ]
  },
  {
   "cell_type": "code",
   "execution_count": 11,
   "metadata": {},
   "outputs": [
    {
     "data": {
      "text/plain": [
       "2"
      ]
     },
     "execution_count": 11,
     "metadata": {},
     "output_type": "execute_result"
    }
   ],
   "source": [
    "min(liste_2)"
   ]
  },
  {
   "cell_type": "code",
   "execution_count": 14,
   "metadata": {},
   "outputs": [
    {
     "name": "stdout",
     "output_type": "stream",
     "text": [
      "-5\n"
     ]
    }
   ],
   "source": [
    "liste_2 = [9,5,6,-5,-19]\n",
    "\n",
    "min = liste_2[0]\n",
    "\n",
    "x = 0\n",
    "\n",
    "while x < len(liste_2):\n",
    "\n",
    "    if liste_2[x] < min:\n",
    "\n",
    "        min = liste_2[x]\n",
    "\n",
    "    x += 1\n",
    "\n",
    "print(min)"
   ]
  }
 ],
 "metadata": {
  "kernelspec": {
   "display_name": "base",
   "language": "python",
   "name": "python3"
  },
  "language_info": {
   "codemirror_mode": {
    "name": "ipython",
    "version": 3
   },
   "file_extension": ".py",
   "mimetype": "text/x-python",
   "name": "python",
   "nbconvert_exporter": "python",
   "pygments_lexer": "ipython3",
   "version": "3.10.9"
  },
  "orig_nbformat": 4
 },
 "nbformat": 4,
 "nbformat_minor": 2
}
